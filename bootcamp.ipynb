{
  "nbformat": 4,
  "nbformat_minor": 0,
  "metadata": {
    "colab": {
      "provenance": []
    },
    "kernelspec": {
      "name": "python3",
      "display_name": "Python 3"
    },
    "language_info": {
      "name": "python"
    }
  },
  "cells": [
    {
      "cell_type": "code",
      "execution_count": null,
      "metadata": {
        "id": "ydakdMuWDxtd"
      },
      "outputs": [],
      "source": [
        "import random \n",
        "num_secreto = random.randint(1,5)"
      ]
    },
    {
      "cell_type": "code",
      "source": [
        "num_chutado = int(input(\"Digite o numero: \"))"
      ],
      "metadata": {
        "colab": {
          "base_uri": "https://localhost:8080/"
        },
        "id": "DzLXBb8cK1Tf",
        "outputId": "45316621-5557-45f3-e264-29a05c1d7836"
      },
      "execution_count": null,
      "outputs": [
        {
          "name": "stdout",
          "output_type": "stream",
          "text": [
            "Digite o numero: 2\n"
          ]
        }
      ]
    },
    {
      "cell_type": "code",
      "source": [
        "if num_secreto == num_chutado:\n",
        "  print(\"Acertou!\")\n",
        "else:\n",
        "  print(\"Errou...\")\n",
        "  if num_chutado > num_secreto:\n",
        "    print(\"Este numero é maior\")\n",
        "  else:\n",
        "    print(\"Este numero é menor\")"
      ],
      "metadata": {
        "colab": {
          "base_uri": "https://localhost:8080/"
        },
        "id": "qNtjOeDHI3YU",
        "outputId": "c3b1e002-7fe0-4aca-e65c-54439093b8e0"
      },
      "execution_count": null,
      "outputs": [
        {
          "output_type": "stream",
          "name": "stdout",
          "text": [
            "Acertou!\n"
          ]
        }
      ]
    },
    {
      "cell_type": "code",
      "source": [
        "print(num_secreto)"
      ],
      "metadata": {
        "colab": {
          "base_uri": "https://localhost:8080/"
        },
        "id": "1E1N8EniId8E",
        "outputId": "10e0a3ed-6e86-4de2-8207-9d3cf80843da"
      },
      "execution_count": null,
      "outputs": [
        {
          "output_type": "stream",
          "name": "stdout",
          "text": [
            "2\n"
          ]
        }
      ]
    },
    {
      "cell_type": "markdown",
      "source": [
        "------------------------------------------"
      ],
      "metadata": {
        "id": "_pifZcprLdTs"
      }
    },
    {
      "cell_type": "code",
      "source": [
        "try: \n",
        "  idade = int(input(\"Digite sua idade: \"))\n",
        "except:\n",
        "  print(\"Invalido!\")\n",
        "if idade > 18:\n",
        "  print(\"Adulto\")\n",
        "elif idade > 12:\n",
        "  print(\"Adolecente\")\n",
        "elif idade < 12 and idade > 0:\n",
        "  print(\"Criança\")\n",
        "else:\n",
        "  print(\"Error!\")"
      ],
      "metadata": {
        "colab": {
          "base_uri": "https://localhost:8080/"
        },
        "id": "t5vf1xeQLjoj",
        "outputId": "2a450448-22ba-4fab-fbbd-0204e4309eb3"
      },
      "execution_count": null,
      "outputs": [
        {
          "output_type": "stream",
          "name": "stdout",
          "text": [
            "Digite sua idade: 1\n",
            "Criança\n"
          ]
        }
      ]
    },
    {
      "cell_type": "markdown",
      "source": [
        "-------------"
      ],
      "metadata": {
        "id": "z0zOArBfPN9l"
      }
    },
    {
      "cell_type": "code",
      "source": [
        "def confirm(num_secreto,num_chutado): \n",
        "  if num_secreto == num_chutado:\n",
        "    return \"Acertou!\"\n",
        "  else:\n",
        "    print(\"Errou...\")\n",
        "    if num_chutado > num_secreto:\n",
        "      return \"Este numero é maior\"\n",
        "    else:\n",
        "      return \"Este numero é menor\""
      ],
      "metadata": {
        "id": "soMq7DBnPRlL"
      },
      "execution_count": null,
      "outputs": []
    },
    {
      "cell_type": "code",
      "source": [
        "aleatorio = random.randint(1,1000)"
      ],
      "metadata": {
        "id": "elo5CyIuPr8H"
      },
      "execution_count": null,
      "outputs": []
    },
    {
      "cell_type": "code",
      "source": [
        "resultcon = confirm(aleatorio,345)\n",
        "sequen = range(1,1000)\n",
        "for numero in sequen:\n",
        "  if numero == 1001:\n",
        "    print(numero)"
      ],
      "metadata": {
        "colab": {
          "base_uri": "https://localhost:8080/"
        },
        "id": "IncsCAciS2yv",
        "outputId": "1fdbe080-55cc-48d6-ff8b-89fdf8b7eafc"
      },
      "execution_count": null,
      "outputs": [
        {
          "output_type": "stream",
          "name": "stdout",
          "text": [
            "Errou...\n"
          ]
        }
      ]
    },
    {
      "cell_type": "code",
      "source": [
        "resultcon"
      ],
      "metadata": {
        "colab": {
          "base_uri": "https://localhost:8080/",
          "height": 37
        },
        "id": "EUIaOPA7Ts5L",
        "outputId": "48ee7905-24a0-4ee6-fee8-cc77768bc77a"
      },
      "execution_count": null,
      "outputs": [
        {
          "output_type": "execute_result",
          "data": {
            "text/plain": [
              "'Este numero é maior'"
            ],
            "application/vnd.google.colaboratory.intrinsic+json": {
              "type": "string"
            }
          },
          "metadata": {},
          "execution_count": 20
        }
      ]
    },
    {
      "cell_type": "markdown",
      "source": [
        "----------------"
      ],
      "metadata": {
        "id": "JN-S3-deNDBA"
      }
    },
    {
      "cell_type": "code",
      "source": [
        "class Movel:\n",
        "  def decoracao(movel,local):\n",
        "    print(f\"O {movel} esta decorando o {local}\")"
      ],
      "metadata": {
        "id": "a_HFf0CNNFgf"
      },
      "execution_count": 8,
      "outputs": []
    },
    {
      "cell_type": "code",
      "source": [
        "m = Movel"
      ],
      "metadata": {
        "id": "vbBt2gO7OgbV"
      },
      "execution_count": 9,
      "outputs": []
    },
    {
      "cell_type": "code",
      "source": [
        "m.decoracao(\"escrivaninha\", \"quarto\")"
      ],
      "metadata": {
        "colab": {
          "base_uri": "https://localhost:8080/"
        },
        "id": "QN_U4fG0O6t1",
        "outputId": "0efecc1c-abf4-40a2-9673-5d9dd6287ca4"
      },
      "execution_count": 10,
      "outputs": [
        {
          "output_type": "stream",
          "name": "stdout",
          "text": [
            "O escrivaninha esta decorando o quarto\n"
          ]
        }
      ]
    },
    {
      "cell_type": "code",
      "source": [
        "m.decoracao(\"sofa\",\"Varanda\")"
      ],
      "metadata": {
        "colab": {
          "base_uri": "https://localhost:8080/"
        },
        "id": "WwvOEm-LQFZD",
        "outputId": "5a064cac-f53d-4ce9-86e2-eb955ecdcc44"
      },
      "execution_count": 11,
      "outputs": [
        {
          "output_type": "stream",
          "name": "stdout",
          "text": [
            "O sofa esta decorando o Varanda\n"
          ]
        }
      ]
    },
    {
      "cell_type": "code",
      "source": [
        "m.decoracao(local=\"banheiro\",movel=\"cuba\")"
      ],
      "metadata": {
        "colab": {
          "base_uri": "https://localhost:8080/"
        },
        "id": "WAKbqtVqQzAC",
        "outputId": "da0d99d7-88bd-41e4-fa20-d2e2af98e8e5"
      },
      "execution_count": 13,
      "outputs": [
        {
          "output_type": "stream",
          "name": "stdout",
          "text": [
            "O cuba esta decorando o banheiro\n"
          ]
        }
      ]
    },
    {
      "cell_type": "code",
      "source": [
        "class Banco():\n",
        "  def __init__(self,numero,valor) -> None:\n",
        "    self.numero = 0\n",
        "    self.valor = 0\n",
        "    self.conta = {}\n",
        "    if numero not in self.conta.keys():\n",
        "      self.criar_conta(numero,valor)\n",
        "  def criar_conta(self,numero,valor):\n",
        "    self.conta[numero]=valor\n",
        "  def extrato(self,numero):\n",
        "    print(self.conta[numero])\n",
        "  def depositar(self,numero,valor_deposito):\n",
        "    self.conta[numero]=self.conta[numero]+valor_deposito\n",
        "  def sacar(self,numero,valor_saque):\n",
        "    self.conta[numero]=self.conta[numero]-valor_saque"
      ],
      "metadata": {
        "id": "qMg9ChWpRXdH"
      },
      "execution_count": 99,
      "outputs": []
    },
    {
      "cell_type": "code",
      "source": [
        "ban = Banco(\"1234\",1000)"
      ],
      "metadata": {
        "id": "uCSITtxNURgx"
      },
      "execution_count": 100,
      "outputs": []
    },
    {
      "cell_type": "code",
      "source": [
        "ban.extrato(\"1234\")"
      ],
      "metadata": {
        "colab": {
          "base_uri": "https://localhost:8080/"
        },
        "id": "jA0grTcfWjVI",
        "outputId": "50f58dc3-75c0-46d2-85af-1f0547aaef29"
      },
      "execution_count": 106,
      "outputs": [
        {
          "output_type": "stream",
          "name": "stdout",
          "text": [
            "1500\n"
          ]
        }
      ]
    },
    {
      "cell_type": "code",
      "source": [
        "ban.depositar(\"1234\",1500)"
      ],
      "metadata": {
        "id": "Qo14TR7eg-7j"
      },
      "execution_count": 102,
      "outputs": []
    },
    {
      "cell_type": "code",
      "source": [
        "ban.sacar(\"1234\",500)"
      ],
      "metadata": {
        "id": "g9L0tL-mhp3b"
      },
      "execution_count": 105,
      "outputs": []
    },
    {
      "cell_type": "markdown",
      "source": [
        "criar um banco que gerencia contas bancarias \n",
        "\n",
        "\n",
        "--- criar uma nova conta\n",
        "\n",
        "\n",
        "--- mostrar o extrato de uma de uma conta existente\n",
        "\n",
        "\n",
        "--- depositar dinheiro na conta\n",
        "\n",
        "\n",
        "--- sacar dinheiro da conta\n",
        "\n",
        "\n",
        "\n",
        "\n",
        "\n",
        "\n",
        "\n"
      ],
      "metadata": {
        "id": "AOYUlED3RjU4"
      }
    },
    {
      "cell_type": "code",
      "source": [],
      "metadata": {
        "id": "uBQHQe11irJe"
      },
      "execution_count": null,
      "outputs": []
    },
    {
      "cell_type": "markdown",
      "source": [
        "Criar um inventario se ele nao existir\n",
        "\n",
        "Armazenar Itens\n",
        "\n",
        "Usar Itens (Retirar o Item)\n",
        "\n",
        "Dividir Itens\n",
        "\n",
        "Fundir Itens\n",
        "\n"
      ],
      "metadata": {
        "id": "_5eHx-U-izzU"
      }
    },
    {
      "cell_type": "code",
      "source": [
        "inventario = {}\n",
        "inventario['obsidiana'] = 15"
      ],
      "metadata": {
        "id": "GyUZlJBNjUof"
      },
      "execution_count": 114,
      "outputs": []
    },
    {
      "cell_type": "code",
      "source": [
        "inventario['obsidiana'] = inventario['obsidiana'] - 1"
      ],
      "metadata": {
        "id": "liLvisiIl023"
      },
      "execution_count": 115,
      "outputs": []
    },
    {
      "cell_type": "code",
      "source": [
        "inventario"
      ],
      "metadata": {
        "colab": {
          "base_uri": "https://localhost:8080/"
        },
        "id": "5UHbKPMHjrT1",
        "outputId": "8677e0b8-9500-4fe2-f92d-c9f11b8eaa8f"
      },
      "execution_count": 116,
      "outputs": [
        {
          "output_type": "execute_result",
          "data": {
            "text/plain": [
              "{'obsidiana': 14}"
            ]
          },
          "metadata": {},
          "execution_count": 116
        }
      ]
    },
    {
      "cell_type": "code",
      "source": [
        "'obsidiana' 15"
      ],
      "metadata": {
        "id": "6IVBypDOjnIB"
      },
      "execution_count": null,
      "outputs": []
    },
    {
      "cell_type": "code",
      "source": [
        "inventario['espada'] = 1"
      ],
      "metadata": {
        "id": "adTJ6hVGkJzA"
      },
      "execution_count": 109,
      "outputs": []
    },
    {
      "cell_type": "code",
      "source": [
        "inventario"
      ],
      "metadata": {
        "colab": {
          "base_uri": "https://localhost:8080/"
        },
        "id": "lr4ZOcBvkknH",
        "outputId": "57f17b16-3b98-4135-af1c-de51c7e63bb4"
      },
      "execution_count": 113,
      "outputs": [
        {
          "output_type": "execute_result",
          "data": {
            "text/plain": [
              "{'obsidiana': 15}"
            ]
          },
          "metadata": {},
          "execution_count": 113
        }
      ]
    },
    {
      "cell_type": "code",
      "source": [
        "{'espada': 1}"
      ],
      "metadata": {
        "id": "Neca5PkpkZuv"
      },
      "execution_count": null,
      "outputs": []
    },
    {
      "cell_type": "code",
      "source": [
        "{'obsidiana': 16, 'espada': 1, 'pokebola' : 'pikachu'}"
      ],
      "metadata": {
        "id": "LMIsjmXik42Y"
      },
      "execution_count": null,
      "outputs": []
    }
  ]
}